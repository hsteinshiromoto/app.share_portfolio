{
 "cells": [
  {
   "cell_type": "markdown",
   "metadata": {},
   "source": [
    "# Import"
   ]
  },
  {
   "cell_type": "markdown",
   "metadata": {},
   "source": [
    "## Modules"
   ]
  },
  {
   "cell_type": "markdown",
   "metadata": {},
   "source": [
    "Science & Data"
   ]
  },
  {
   "cell_type": "code",
   "execution_count": 1,
   "metadata": {},
   "outputs": [],
   "source": [
    "import pandas as pd\n",
    "import numpy as np"
   ]
  },
  {
   "cell_type": "code",
   "execution_count": 2,
   "metadata": {},
   "outputs": [],
   "source": [
    "import time\n",
    "from datetime import datetime"
   ]
  },
  {
   "cell_type": "markdown",
   "metadata": {},
   "source": [
    "Data Sources"
   ]
  },
  {
   "cell_type": "code",
   "execution_count": 3,
   "metadata": {},
   "outputs": [],
   "source": [
    "# import pyasx.data.securities\n",
    "from alpha_vantage.timeseries import TimeSeries"
   ]
  },
  {
   "cell_type": "markdown",
   "metadata": {},
   "source": [
    "# Using `pyasx.data.securities`"
   ]
  },
  {
   "cell_type": "code",
   "execution_count": 34,
   "metadata": {},
   "outputs": [
    {
     "ename": "AttributeError",
     "evalue": "module 'pyasx.data' has no attribute 'companies'",
     "output_type": "error",
     "traceback": [
      "\u001b[0;31m\u001b[0m",
      "\u001b[0;31mAttributeError\u001b[0mTraceback (most recent call last)",
      "\u001b[0;32m<ipython-input-34-5c9fb1efa157>\u001b[0m in \u001b[0;36m<module>\u001b[0;34m\u001b[0m\n\u001b[1;32m      1\u001b[0m \u001b[0mresults\u001b[0m \u001b[0;34m=\u001b[0m \u001b[0mpyasx\u001b[0m\u001b[0;34m.\u001b[0m\u001b[0mdata\u001b[0m\u001b[0;34m.\u001b[0m\u001b[0msecurities\u001b[0m\u001b[0;34m.\u001b[0m\u001b[0mget_security_info\u001b[0m\u001b[0;34m(\u001b[0m\u001b[0;34m\"CBA\"\u001b[0m\u001b[0;34m)\u001b[0m\u001b[0;34m\u001b[0m\u001b[0;34m\u001b[0m\u001b[0m\n\u001b[0;32m----> 2\u001b[0;31m \u001b[0msecurities_list\u001b[0m \u001b[0;34m=\u001b[0m \u001b[0mpyasx\u001b[0m\u001b[0;34m.\u001b[0m\u001b[0mdata\u001b[0m\u001b[0;34m.\u001b[0m\u001b[0mcompanies\u001b[0m\u001b[0;34m.\u001b[0m\u001b[0mget_listed_companies\u001b[0m\u001b[0;34m(\u001b[0m\u001b[0;34m)\u001b[0m\u001b[0;34m\u001b[0m\u001b[0;34m\u001b[0m\u001b[0m\n\u001b[0m",
      "\u001b[0;31mAttributeError\u001b[0m: module 'pyasx.data' has no attribute 'companies'"
     ]
    }
   ],
   "source": [
    "results = pyasx.data.securities.get_security_info(\"CBA\")\n",
    "securities_list = pyasx.data.companies.get_listed_companies()"
   ]
  },
  {
   "cell_type": "code",
   "execution_count": 9,
   "metadata": {},
   "outputs": [
    {
     "data": {
      "text/html": [
       "<div>\n",
       "<style scoped>\n",
       "    .dataframe tbody tr th:only-of-type {\n",
       "        vertical-align: middle;\n",
       "    }\n",
       "\n",
       "    .dataframe tbody tr th {\n",
       "        vertical-align: top;\n",
       "    }\n",
       "\n",
       "    .dataframe thead th {\n",
       "        text-align: right;\n",
       "    }\n",
       "</style>\n",
       "<table border=\"1\" class=\"dataframe\">\n",
       "  <thead>\n",
       "    <tr style=\"text-align: right;\">\n",
       "      <th></th>\n",
       "      <th>ticker</th>\n",
       "      <th>isin</th>\n",
       "      <th>type</th>\n",
       "      <th>open_price</th>\n",
       "      <th>last_price</th>\n",
       "      <th>bid_price</th>\n",
       "      <th>offer_price</th>\n",
       "      <th>last_trade_date</th>\n",
       "      <th>day_high_price</th>\n",
       "      <th>day_low_price</th>\n",
       "      <th>...</th>\n",
       "      <th>year_change_price</th>\n",
       "      <th>year_change_percent</th>\n",
       "      <th>average_daily_volume</th>\n",
       "      <th>pe</th>\n",
       "      <th>eps</th>\n",
       "      <th>annual_dividend_yield</th>\n",
       "      <th>securities_outstanding</th>\n",
       "      <th>market_cap</th>\n",
       "      <th>is_suspended</th>\n",
       "      <th>indices</th>\n",
       "    </tr>\n",
       "  </thead>\n",
       "  <tbody>\n",
       "  </tbody>\n",
       "</table>\n",
       "<p>0 rows × 30 columns</p>\n",
       "</div>"
      ],
      "text/plain": [
       "Empty DataFrame\n",
       "Columns: [ticker, isin, type, open_price, last_price, bid_price, offer_price, last_trade_date, day_high_price, day_low_price, day_change_price, day_change_percent, day_volume, prev_day_close_price, prev_day_change_percent, year_high_price, year_high_date, year_low_price, year_low_date, year_open_price, year_change_price, year_change_percent, average_daily_volume, pe, eps, annual_dividend_yield, securities_outstanding, market_cap, is_suspended, indices]\n",
       "Index: []\n",
       "\n",
       "[0 rows x 30 columns]"
      ]
     },
     "execution_count": 9,
     "metadata": {},
     "output_type": "execute_result"
    }
   ],
   "source": [
    "pd.DataFrame.from_dict(results)"
   ]
  },
  {
   "cell_type": "code",
   "execution_count": 10,
   "metadata": {},
   "outputs": [
    {
     "data": {
      "text/plain": [
       "{'ticker': 'CBA',\n",
       " 'isin': 'AU000000CBA7',\n",
       " 'type': 'Ordinary Fully Paid',\n",
       " 'open_price': 80.96,\n",
       " 'last_price': 81.28,\n",
       " 'bid_price': 81.26,\n",
       " 'offer_price': 81.3,\n",
       " 'last_trade_date': datetime.datetime(2019, 10, 1, 0, 0, tzinfo=tzoffset(None, 36000)),\n",
       " 'day_high_price': 81.36,\n",
       " 'day_low_price': 80.12,\n",
       " 'day_change_price': 0.45,\n",
       " 'day_change_percent': '0.557%',\n",
       " 'day_volume': 2799927,\n",
       " 'prev_day_close_price': 80.83,\n",
       " 'prev_day_change_percent': '-0.871%',\n",
       " 'year_high_price': 83.99,\n",
       " 'year_high_date': datetime.datetime(2019, 6, 28, 0, 0, tzinfo=tzoffset(None, 36000)),\n",
       " 'year_low_price': 65.23,\n",
       " 'year_low_date': datetime.datetime(2018, 10, 15, 0, 0, tzinfo=tzoffset(None, 39600)),\n",
       " 'year_open_price': 75.27,\n",
       " 'year_change_price': 6.01,\n",
       " 'year_change_percent': '7.985%',\n",
       " 'average_daily_volume': 3057007,\n",
       " 'pe': 16.65,\n",
       " 'eps': 4.856,\n",
       " 'annual_dividend_yield': 5.33,\n",
       " 'securities_outstanding': 1770239507,\n",
       " 'market_cap': 143088459351,\n",
       " 'is_suspended': False,\n",
       " 'indices': []}"
      ]
     },
     "execution_count": 10,
     "metadata": {},
     "output_type": "execute_result"
    }
   ],
   "source": [
    "results"
   ]
  },
  {
   "cell_type": "markdown",
   "metadata": {},
   "source": [
    "# Using Alphavantage"
   ]
  },
  {
   "cell_type": "code",
   "execution_count": 4,
   "metadata": {},
   "outputs": [],
   "source": [
    "ts = TimeSeries(key=\"BTKNX9JSRGS3CXOQ\", output_format=\"pandas\", indexing_type='date')"
   ]
  },
  {
   "cell_type": "code",
   "execution_count": 23,
   "metadata": {},
   "outputs": [
    {
     "name": "stdout",
     "output_type": "stream",
     "text": [
      "Defining df\n",
      "Waiting 56 seconds ...\n",
      "Waiting 56 seconds ...\n",
      "Waiting 57 seconds ...\n",
      "Waiting 55 seconds ...\n",
      "Waiting 56 seconds ...\n",
      "Waiting 55 seconds ...\n",
      "Waiting 55 seconds ...\n",
      "Waiting 55 seconds ...\n",
      "Waiting 55 seconds ...\n",
      "Waiting 56 seconds ...\n",
      "Waiting 57 seconds ...\n"
     ]
    }
   ],
   "source": [
    "shares = [\"WES\", 'QBE', 'CUV', \"AGL\", \"COH\", \"BHP\", \"CSL\", \"VAS\", \"WOW\", \"A2M\", \"MVF\"]\n",
    "symbols = [share + \".AX\" for share in shares]\n",
    "for symbol in symbols:\n",
    "    \n",
    "    time_start = datetime.now()\n",
    "    data, meta_data = ts.get_daily(symbol=symbol, outputsize='full')\n",
    "    data.reset_index(inplace=True)\n",
    "    data.rename(columns={column: column[3:].capitalize() if column != \"date\" else \"Date\" for column in data.columns.values}, inplace=True)\n",
    "    data[\"Symbol\"] = symbol\n",
    "    \n",
    "    try:\n",
    "        df = df.append(data)\n",
    "        \n",
    "    except NameError:\n",
    "        print(\"Defining df\")\n",
    "        df = data.copy()\n",
    "        \n",
    "    time_diff = datetime.now() - time_start\n",
    "    if time_diff.seconds <= 60:\n",
    "        print(f\"Waiting {60 - time_diff.seconds} seconds ...\")\n",
    "        time.sleep(60 - time_diff.seconds)\n",
    "    "
   ]
  },
  {
   "cell_type": "code",
   "execution_count": 24,
   "metadata": {},
   "outputs": [],
   "source": [
    "df.to_csv(\"data.csv\")"
   ]
  },
  {
   "cell_type": "code",
   "execution_count": 22,
   "metadata": {},
   "outputs": [],
   "source": [
    "del df, data"
   ]
  },
  {
   "cell_type": "code",
   "execution_count": 32,
   "metadata": {},
   "outputs": [
    {
     "name": "stdout",
     "output_type": "stream",
     "text": [
      "<class 'pandas.core.frame.DataFrame'>\n",
      "Int64Index: 45349 entries, 0 to 1360\n",
      "Data columns (total 7 columns):\n",
      "Date      45349 non-null datetime64[ns]\n",
      "Open      45349 non-null float64\n",
      "High      45349 non-null float64\n",
      "Low       45349 non-null float64\n",
      "Close     45349 non-null float64\n",
      "Volume    45349 non-null float64\n",
      "Symbol    45349 non-null object\n",
      "dtypes: datetime64[ns](1), float64(5), object(1)\n",
      "memory usage: 2.8+ MB\n"
     ]
    }
   ],
   "source": [
    "df.info()"
   ]
  },
  {
   "cell_type": "code",
   "execution_count": 29,
   "metadata": {},
   "outputs": [
    {
     "data": {
      "text/plain": [
       "{'1. Information': 'Daily Prices (open, high, low, close) and Volumes',\n",
       " '2. Symbol': 'MVF.AX',\n",
       " '3. Last Refreshed': '2019-11-05',\n",
       " '4. Output Size': 'Full size',\n",
       " '5. Time Zone': 'US/Eastern'}"
      ]
     },
     "execution_count": 29,
     "metadata": {},
     "output_type": "execute_result"
    }
   ],
   "source": [
    "meta_data"
   ]
  },
  {
   "cell_type": "code",
   "execution_count": null,
   "metadata": {},
   "outputs": [],
   "source": []
  }
 ],
 "metadata": {
  "kernelspec": {
   "display_name": "Python 3",
   "language": "python",
   "name": "python3"
  },
  "language_info": {
   "codemirror_mode": {
    "name": "ipython",
    "version": 3
   },
   "file_extension": ".py",
   "mimetype": "text/x-python",
   "name": "python",
   "nbconvert_exporter": "python",
   "pygments_lexer": "ipython3",
   "version": "3.7.3"
  }
 },
 "nbformat": 4,
 "nbformat_minor": 2
}
